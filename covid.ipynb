{
 "cells": [
  {
   "cell_type": "code",
   "execution_count": 25,
   "metadata": {},
   "outputs": [],
   "source": [
    "# Utility functions for epidemiology data\n",
    "import pandas as pd\n",
    "\n",
    "# Use this to change any date information to the right type\n",
    "# and to move all date data from columns to rows\n",
    "def correctDateFormat(df):\n",
    "    # Move date data from columns to rows. Will create two new columns (one for\n",
    "    # date and one for the number of confirmed cases). Will add a new row for\n",
    "    # each date x province/state\n",
    "    df = df.melt(id_vars=df.columns[0:4], var_name=\"Date\", value_name=\"Confirmed\")\n",
    "    # Convert date to a datetime object so pandas knows how to do math with it\n",
    "    df[\"Date\"] = pd.to_datetime(df[\"Date\"])\n",
    "    return df\n",
    "\n",
    "# Helper function you can use to group the data for a given country of interestself.\n",
    "# Just pass the function your dataframe and the country's name as a string\n",
    "def aggregateCountry(df, country):\n",
    "    data = df.loc[df[\"Country/Region\"] == country]\n",
    "    return data.groupby(\"Date\", as_index=False).sum()\n",
    "\n",
    "\n",
    "\n",
    "\n",
    "\n",
    "\n",
    "'''n covid.py, write a function called topCorrelations that takes a \n",
    "dataframe, a target column (confirmed, deaths, recoveries, and a number n. \n",
    "The function should return the top n most correlated pairs of countries in the dataset. \n",
    "Note that your computeCorrelation function from Problem Set #4 might come in handy here. '''\n",
    "def topCorrelation(df, tColumn):\n",
    "    corrs = []\n",
    "    countries = pd.unique(df[\"Country/Region\"])\n",
    "    \n",
    "    \n",
    "    \n",
    "    repeat = []\n",
    "    for country1 in countries:\n",
    "        for country2 in countries:\n",
    "            if country1 != country2:\n",
    "                if [country1,country2] not in repeat and [country2,country1] not in repeat:\n",
    "                    country1Data = df.loc[df[\"Country/Region\"] == country1]\n",
    "                    country1Data = df.groupby(\"Confirmed\", as_index=False).sum()\n",
    "    \n",
    "                    country2Data = df.loc[df[\"Country/Region\"] == country2]\n",
    "                    country2Data = df.groupby(\"Confirmed\", as_index=False).sum()\n",
    "                    print(country1Data)\n",
    "                    #if (country1Data >= 500) and (country2Data >= 500):\n",
    "                    #print(country1Data.corr(country2Data))\n",
    "                        "
   ]
  },
  {
   "cell_type": "code",
   "execution_count": null,
   "metadata": {},
   "outputs": [],
   "source": []
  }
 ],
 "metadata": {
  "kernelspec": {
   "display_name": "Python 3",
   "language": "python",
   "name": "python3"
  },
  "language_info": {
   "codemirror_mode": {
    "name": "ipython",
    "version": 3
   },
   "file_extension": ".py",
   "mimetype": "text/x-python",
   "name": "python",
   "nbconvert_exporter": "python",
   "pygments_lexer": "ipython3",
   "version": "3.6.1"
  }
 },
 "nbformat": 4,
 "nbformat_minor": 2
}
